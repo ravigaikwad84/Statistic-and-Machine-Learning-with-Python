{
 "cells": [
  {
   "cell_type": "code",
   "execution_count": 49,
   "metadata": {},
   "outputs": [],
   "source": [
    "#import libraries\n",
    "import numpy as np\n",
    "import pandas as pd\n",
    "import matplotlib.pyplot as plt\n",
    "%matplotlib inline\n",
    "import seaborn as sns\n",
    "\n",
    "from scipy import stats\n",
    "import statsmodels.api as sm\n",
    "\n",
    "import warnings\n",
    "warnings.filterwarnings('ignore')\n"
   ]
  },
  {
   "cell_type": "code",
   "execution_count": 48,
   "metadata": {
    "scrolled": true
   },
   "outputs": [
    {
     "data": {
      "text/html": [
       "<div>\n",
       "<style scoped>\n",
       "    .dataframe tbody tr th:only-of-type {\n",
       "        vertical-align: middle;\n",
       "    }\n",
       "\n",
       "    .dataframe tbody tr th {\n",
       "        vertical-align: top;\n",
       "    }\n",
       "\n",
       "    .dataframe thead th {\n",
       "        text-align: right;\n",
       "    }\n",
       "</style>\n",
       "<table border=\"1\" class=\"dataframe\">\n",
       "  <thead>\n",
       "    <tr style=\"text-align: right;\">\n",
       "      <th></th>\n",
       "      <th>Unnamed: 0</th>\n",
       "      <th>price</th>\n",
       "      <th>lot_size</th>\n",
       "      <th>waterfront</th>\n",
       "      <th>age</th>\n",
       "      <th>land_value</th>\n",
       "      <th>construction</th>\n",
       "      <th>air_cond</th>\n",
       "      <th>fuel</th>\n",
       "      <th>heat</th>\n",
       "      <th>sewer</th>\n",
       "      <th>living_area</th>\n",
       "      <th>fireplaces</th>\n",
       "      <th>bathrooms</th>\n",
       "      <th>rooms</th>\n",
       "    </tr>\n",
       "  </thead>\n",
       "  <tbody>\n",
       "    <tr>\n",
       "      <th>0</th>\n",
       "      <td>1</td>\n",
       "      <td>132500</td>\n",
       "      <td>0.09</td>\n",
       "      <td>No</td>\n",
       "      <td>42</td>\n",
       "      <td>50000</td>\n",
       "      <td>No</td>\n",
       "      <td>No</td>\n",
       "      <td>Electric</td>\n",
       "      <td>Electric</td>\n",
       "      <td>Private</td>\n",
       "      <td>906</td>\n",
       "      <td>1</td>\n",
       "      <td>1.0</td>\n",
       "      <td>5</td>\n",
       "    </tr>\n",
       "    <tr>\n",
       "      <th>1</th>\n",
       "      <td>2</td>\n",
       "      <td>181115</td>\n",
       "      <td>0.92</td>\n",
       "      <td>No</td>\n",
       "      <td>0</td>\n",
       "      <td>22300</td>\n",
       "      <td>No</td>\n",
       "      <td>No</td>\n",
       "      <td>Gas</td>\n",
       "      <td>Hot Water</td>\n",
       "      <td>Private</td>\n",
       "      <td>1953</td>\n",
       "      <td>0</td>\n",
       "      <td>2.5</td>\n",
       "      <td>6</td>\n",
       "    </tr>\n",
       "    <tr>\n",
       "      <th>2</th>\n",
       "      <td>3</td>\n",
       "      <td>109000</td>\n",
       "      <td>0.19</td>\n",
       "      <td>No</td>\n",
       "      <td>133</td>\n",
       "      <td>7300</td>\n",
       "      <td>No</td>\n",
       "      <td>No</td>\n",
       "      <td>Gas</td>\n",
       "      <td>Hot Water</td>\n",
       "      <td>Public</td>\n",
       "      <td>1944</td>\n",
       "      <td>1</td>\n",
       "      <td>1.0</td>\n",
       "      <td>8</td>\n",
       "    </tr>\n",
       "    <tr>\n",
       "      <th>3</th>\n",
       "      <td>4</td>\n",
       "      <td>155000</td>\n",
       "      <td>0.41</td>\n",
       "      <td>No</td>\n",
       "      <td>13</td>\n",
       "      <td>18700</td>\n",
       "      <td>No</td>\n",
       "      <td>No</td>\n",
       "      <td>Gas</td>\n",
       "      <td>Hot Air</td>\n",
       "      <td>Private</td>\n",
       "      <td>1944</td>\n",
       "      <td>1</td>\n",
       "      <td>1.5</td>\n",
       "      <td>5</td>\n",
       "    </tr>\n",
       "    <tr>\n",
       "      <th>4</th>\n",
       "      <td>5</td>\n",
       "      <td>86060</td>\n",
       "      <td>0.11</td>\n",
       "      <td>No</td>\n",
       "      <td>0</td>\n",
       "      <td>15000</td>\n",
       "      <td>Yes</td>\n",
       "      <td>Yes</td>\n",
       "      <td>Gas</td>\n",
       "      <td>Hot Air</td>\n",
       "      <td>Public</td>\n",
       "      <td>840</td>\n",
       "      <td>0</td>\n",
       "      <td>1.0</td>\n",
       "      <td>3</td>\n",
       "    </tr>\n",
       "    <tr>\n",
       "      <th>...</th>\n",
       "      <td>...</td>\n",
       "      <td>...</td>\n",
       "      <td>...</td>\n",
       "      <td>...</td>\n",
       "      <td>...</td>\n",
       "      <td>...</td>\n",
       "      <td>...</td>\n",
       "      <td>...</td>\n",
       "      <td>...</td>\n",
       "      <td>...</td>\n",
       "      <td>...</td>\n",
       "      <td>...</td>\n",
       "      <td>...</td>\n",
       "      <td>...</td>\n",
       "      <td>...</td>\n",
       "    </tr>\n",
       "    <tr>\n",
       "      <th>1723</th>\n",
       "      <td>1724</td>\n",
       "      <td>289000</td>\n",
       "      <td>0.38</td>\n",
       "      <td>No</td>\n",
       "      <td>32</td>\n",
       "      <td>24200</td>\n",
       "      <td>No</td>\n",
       "      <td>No</td>\n",
       "      <td>Gas</td>\n",
       "      <td>Hot Water</td>\n",
       "      <td>Public</td>\n",
       "      <td>2310</td>\n",
       "      <td>1</td>\n",
       "      <td>2.5</td>\n",
       "      <td>11</td>\n",
       "    </tr>\n",
       "    <tr>\n",
       "      <th>1724</th>\n",
       "      <td>1725</td>\n",
       "      <td>285000</td>\n",
       "      <td>0.94</td>\n",
       "      <td>No</td>\n",
       "      <td>37</td>\n",
       "      <td>36200</td>\n",
       "      <td>No</td>\n",
       "      <td>No</td>\n",
       "      <td>Gas</td>\n",
       "      <td>Hot Water</td>\n",
       "      <td>Public</td>\n",
       "      <td>2564</td>\n",
       "      <td>1</td>\n",
       "      <td>2.5</td>\n",
       "      <td>11</td>\n",
       "    </tr>\n",
       "    <tr>\n",
       "      <th>1725</th>\n",
       "      <td>1726</td>\n",
       "      <td>194900</td>\n",
       "      <td>0.39</td>\n",
       "      <td>No</td>\n",
       "      <td>9</td>\n",
       "      <td>20400</td>\n",
       "      <td>No</td>\n",
       "      <td>No</td>\n",
       "      <td>Gas</td>\n",
       "      <td>Hot Air</td>\n",
       "      <td>Public</td>\n",
       "      <td>1099</td>\n",
       "      <td>0</td>\n",
       "      <td>1.0</td>\n",
       "      <td>3</td>\n",
       "    </tr>\n",
       "    <tr>\n",
       "      <th>1726</th>\n",
       "      <td>1727</td>\n",
       "      <td>125000</td>\n",
       "      <td>0.24</td>\n",
       "      <td>No</td>\n",
       "      <td>48</td>\n",
       "      <td>16800</td>\n",
       "      <td>No</td>\n",
       "      <td>No</td>\n",
       "      <td>Gas</td>\n",
       "      <td>Hot Air</td>\n",
       "      <td>Public</td>\n",
       "      <td>1225</td>\n",
       "      <td>1</td>\n",
       "      <td>1.0</td>\n",
       "      <td>7</td>\n",
       "    </tr>\n",
       "    <tr>\n",
       "      <th>1727</th>\n",
       "      <td>1728</td>\n",
       "      <td>111300</td>\n",
       "      <td>0.59</td>\n",
       "      <td>No</td>\n",
       "      <td>86</td>\n",
       "      <td>26000</td>\n",
       "      <td>No</td>\n",
       "      <td>No</td>\n",
       "      <td>Gas</td>\n",
       "      <td>Hot Air</td>\n",
       "      <td>Private</td>\n",
       "      <td>1959</td>\n",
       "      <td>0</td>\n",
       "      <td>1.0</td>\n",
       "      <td>6</td>\n",
       "    </tr>\n",
       "  </tbody>\n",
       "</table>\n",
       "<p>1728 rows × 15 columns</p>\n",
       "</div>"
      ],
      "text/plain": [
       "      Unnamed: 0   price  lot_size waterfront  age  land_value construction  \\\n",
       "0              1  132500      0.09         No   42       50000           No   \n",
       "1              2  181115      0.92         No    0       22300           No   \n",
       "2              3  109000      0.19         No  133        7300           No   \n",
       "3              4  155000      0.41         No   13       18700           No   \n",
       "4              5   86060      0.11         No    0       15000          Yes   \n",
       "...          ...     ...       ...        ...  ...         ...          ...   \n",
       "1723        1724  289000      0.38         No   32       24200           No   \n",
       "1724        1725  285000      0.94         No   37       36200           No   \n",
       "1725        1726  194900      0.39         No    9       20400           No   \n",
       "1726        1727  125000      0.24         No   48       16800           No   \n",
       "1727        1728  111300      0.59         No   86       26000           No   \n",
       "\n",
       "     air_cond      fuel       heat    sewer  living_area  fireplaces  \\\n",
       "0          No  Electric   Electric  Private          906           1   \n",
       "1          No       Gas  Hot Water  Private         1953           0   \n",
       "2          No       Gas  Hot Water   Public         1944           1   \n",
       "3          No       Gas    Hot Air  Private         1944           1   \n",
       "4         Yes       Gas    Hot Air   Public          840           0   \n",
       "...       ...       ...        ...      ...          ...         ...   \n",
       "1723       No       Gas  Hot Water   Public         2310           1   \n",
       "1724       No       Gas  Hot Water   Public         2564           1   \n",
       "1725       No       Gas    Hot Air   Public         1099           0   \n",
       "1726       No       Gas    Hot Air   Public         1225           1   \n",
       "1727       No       Gas    Hot Air  Private         1959           0   \n",
       "\n",
       "      bathrooms  rooms  \n",
       "0           1.0      5  \n",
       "1           2.5      6  \n",
       "2           1.0      8  \n",
       "3           1.5      5  \n",
       "4           1.0      3  \n",
       "...         ...    ...  \n",
       "1723        2.5     11  \n",
       "1724        2.5     11  \n",
       "1725        1.0      3  \n",
       "1726        1.0      7  \n",
       "1727        1.0      6  \n",
       "\n",
       "[1728 rows x 15 columns]"
      ]
     },
     "execution_count": 48,
     "metadata": {},
     "output_type": "execute_result"
    }
   ],
   "source": [
    "df=pd.read_csv(\"/Users/user/Desktop/housingdata.csv\")\n",
    "df"
   ]
  },
  {
   "cell_type": "code",
   "execution_count": 43,
   "metadata": {},
   "outputs": [
    {
     "data": {
      "text/plain": [
       "Index(['price', 'lot_size', 'waterfront', 'age', 'land_value', 'construction',\n",
       "       'air_cond', 'fuel', 'heat', 'sewer', 'living_area', 'fireplaces',\n",
       "       'bathrooms', 'rooms'],\n",
       "      dtype='object')"
      ]
     },
     "execution_count": 43,
     "metadata": {},
     "output_type": "execute_result"
    }
   ],
   "source": [
    "df.keys()"
   ]
  },
  {
   "cell_type": "code",
   "execution_count": 53,
   "metadata": {},
   "outputs": [
    {
     "name": "stdout",
     "output_type": "stream",
     "text": [
      "<class 'pandas.core.frame.DataFrame'>\n",
      "RangeIndex: 1728 entries, 0 to 1727\n",
      "Data columns (total 15 columns):\n",
      " #   Column        Non-Null Count  Dtype  \n",
      "---  ------        --------------  -----  \n",
      " 0   Unnamed: 0    1728 non-null   int64  \n",
      " 1   price         1728 non-null   int64  \n",
      " 2   lot_size      1728 non-null   float64\n",
      " 3   waterfront    1728 non-null   object \n",
      " 4   age           1728 non-null   int64  \n",
      " 5   land_value    1728 non-null   int64  \n",
      " 6   construction  1728 non-null   object \n",
      " 7   air_cond      1728 non-null   object \n",
      " 8   fuel          1728 non-null   object \n",
      " 9   heat          1728 non-null   object \n",
      " 10  sewer         1728 non-null   object \n",
      " 11  living_area   1728 non-null   int64  \n",
      " 12  fireplaces    1728 non-null   int64  \n",
      " 13  bathrooms     1728 non-null   float64\n",
      " 14  rooms         1728 non-null   int64  \n",
      "dtypes: float64(2), int64(7), object(6)\n",
      "memory usage: 202.6+ KB\n"
     ]
    }
   ],
   "source": [
    "df.info()"
   ]
  },
  {
   "cell_type": "code",
   "execution_count": null,
   "metadata": {},
   "outputs": [],
   "source": []
  },
  {
   "cell_type": "code",
   "execution_count": null,
   "metadata": {},
   "outputs": [],
   "source": []
  },
  {
   "cell_type": "code",
   "execution_count": 41,
   "metadata": {},
   "outputs": [],
   "source": [
    "df.drop(labels = 'Unnamed: 0', axis = 1, inplace = True)"
   ]
  },
  {
   "cell_type": "code",
   "execution_count": 44,
   "metadata": {},
   "outputs": [
    {
     "data": {
      "text/html": [
       "<div>\n",
       "<style scoped>\n",
       "    .dataframe tbody tr th:only-of-type {\n",
       "        vertical-align: middle;\n",
       "    }\n",
       "\n",
       "    .dataframe tbody tr th {\n",
       "        vertical-align: top;\n",
       "    }\n",
       "\n",
       "    .dataframe thead th {\n",
       "        text-align: right;\n",
       "    }\n",
       "</style>\n",
       "<table border=\"1\" class=\"dataframe\">\n",
       "  <thead>\n",
       "    <tr style=\"text-align: right;\">\n",
       "      <th></th>\n",
       "      <th>price</th>\n",
       "      <th>lot_size</th>\n",
       "      <th>waterfront</th>\n",
       "      <th>age</th>\n",
       "      <th>land_value</th>\n",
       "      <th>construction</th>\n",
       "      <th>air_cond</th>\n",
       "      <th>fuel</th>\n",
       "      <th>heat</th>\n",
       "      <th>sewer</th>\n",
       "      <th>living_area</th>\n",
       "      <th>fireplaces</th>\n",
       "      <th>bathrooms</th>\n",
       "      <th>rooms</th>\n",
       "    </tr>\n",
       "  </thead>\n",
       "  <tbody>\n",
       "    <tr>\n",
       "      <th>0</th>\n",
       "      <td>132500</td>\n",
       "      <td>0.09</td>\n",
       "      <td>No</td>\n",
       "      <td>42</td>\n",
       "      <td>50000</td>\n",
       "      <td>No</td>\n",
       "      <td>No</td>\n",
       "      <td>Electric</td>\n",
       "      <td>Electric</td>\n",
       "      <td>Private</td>\n",
       "      <td>906</td>\n",
       "      <td>1</td>\n",
       "      <td>1.0</td>\n",
       "      <td>5</td>\n",
       "    </tr>\n",
       "    <tr>\n",
       "      <th>1</th>\n",
       "      <td>181115</td>\n",
       "      <td>0.92</td>\n",
       "      <td>No</td>\n",
       "      <td>0</td>\n",
       "      <td>22300</td>\n",
       "      <td>No</td>\n",
       "      <td>No</td>\n",
       "      <td>Gas</td>\n",
       "      <td>Hot Water</td>\n",
       "      <td>Private</td>\n",
       "      <td>1953</td>\n",
       "      <td>0</td>\n",
       "      <td>2.5</td>\n",
       "      <td>6</td>\n",
       "    </tr>\n",
       "    <tr>\n",
       "      <th>2</th>\n",
       "      <td>109000</td>\n",
       "      <td>0.19</td>\n",
       "      <td>No</td>\n",
       "      <td>133</td>\n",
       "      <td>7300</td>\n",
       "      <td>No</td>\n",
       "      <td>No</td>\n",
       "      <td>Gas</td>\n",
       "      <td>Hot Water</td>\n",
       "      <td>Public</td>\n",
       "      <td>1944</td>\n",
       "      <td>1</td>\n",
       "      <td>1.0</td>\n",
       "      <td>8</td>\n",
       "    </tr>\n",
       "    <tr>\n",
       "      <th>3</th>\n",
       "      <td>155000</td>\n",
       "      <td>0.41</td>\n",
       "      <td>No</td>\n",
       "      <td>13</td>\n",
       "      <td>18700</td>\n",
       "      <td>No</td>\n",
       "      <td>No</td>\n",
       "      <td>Gas</td>\n",
       "      <td>Hot Air</td>\n",
       "      <td>Private</td>\n",
       "      <td>1944</td>\n",
       "      <td>1</td>\n",
       "      <td>1.5</td>\n",
       "      <td>5</td>\n",
       "    </tr>\n",
       "    <tr>\n",
       "      <th>4</th>\n",
       "      <td>86060</td>\n",
       "      <td>0.11</td>\n",
       "      <td>No</td>\n",
       "      <td>0</td>\n",
       "      <td>15000</td>\n",
       "      <td>Yes</td>\n",
       "      <td>Yes</td>\n",
       "      <td>Gas</td>\n",
       "      <td>Hot Air</td>\n",
       "      <td>Public</td>\n",
       "      <td>840</td>\n",
       "      <td>0</td>\n",
       "      <td>1.0</td>\n",
       "      <td>3</td>\n",
       "    </tr>\n",
       "  </tbody>\n",
       "</table>\n",
       "</div>"
      ],
      "text/plain": [
       "    price  lot_size waterfront  age  land_value construction air_cond  \\\n",
       "0  132500      0.09         No   42       50000           No       No   \n",
       "1  181115      0.92         No    0       22300           No       No   \n",
       "2  109000      0.19         No  133        7300           No       No   \n",
       "3  155000      0.41         No   13       18700           No       No   \n",
       "4   86060      0.11         No    0       15000          Yes      Yes   \n",
       "\n",
       "       fuel       heat    sewer  living_area  fireplaces  bathrooms  rooms  \n",
       "0  Electric   Electric  Private          906           1        1.0      5  \n",
       "1       Gas  Hot Water  Private         1953           0        2.5      6  \n",
       "2       Gas  Hot Water   Public         1944           1        1.0      8  \n",
       "3       Gas    Hot Air  Private         1944           1        1.5      5  \n",
       "4       Gas    Hot Air   Public          840           0        1.0      3  "
      ]
     },
     "execution_count": 44,
     "metadata": {},
     "output_type": "execute_result"
    }
   ],
   "source": [
    "df.head()"
   ]
  },
  {
   "cell_type": "markdown",
   "metadata": {},
   "source": [
    "# simple linear regression/univariate regression\n"
   ]
  },
  {
   "cell_type": "code",
   "execution_count": 82,
   "metadata": {},
   "outputs": [
    {
     "data": {
      "text/html": [
       "<div>\n",
       "<style scoped>\n",
       "    .dataframe tbody tr th:only-of-type {\n",
       "        vertical-align: middle;\n",
       "    }\n",
       "\n",
       "    .dataframe tbody tr th {\n",
       "        vertical-align: top;\n",
       "    }\n",
       "\n",
       "    .dataframe thead th {\n",
       "        text-align: right;\n",
       "    }\n",
       "</style>\n",
       "<table border=\"1\" class=\"dataframe\">\n",
       "  <thead>\n",
       "    <tr style=\"text-align: right;\">\n",
       "      <th></th>\n",
       "      <th>price</th>\n",
       "      <th>living_area</th>\n",
       "    </tr>\n",
       "  </thead>\n",
       "  <tbody>\n",
       "    <tr>\n",
       "      <th>0</th>\n",
       "      <td>132500</td>\n",
       "      <td>906</td>\n",
       "    </tr>\n",
       "    <tr>\n",
       "      <th>1</th>\n",
       "      <td>181115</td>\n",
       "      <td>1953</td>\n",
       "    </tr>\n",
       "    <tr>\n",
       "      <th>2</th>\n",
       "      <td>109000</td>\n",
       "      <td>1944</td>\n",
       "    </tr>\n",
       "    <tr>\n",
       "      <th>3</th>\n",
       "      <td>155000</td>\n",
       "      <td>1944</td>\n",
       "    </tr>\n",
       "    <tr>\n",
       "      <th>4</th>\n",
       "      <td>86060</td>\n",
       "      <td>840</td>\n",
       "    </tr>\n",
       "    <tr>\n",
       "      <th>...</th>\n",
       "      <td>...</td>\n",
       "      <td>...</td>\n",
       "    </tr>\n",
       "    <tr>\n",
       "      <th>1723</th>\n",
       "      <td>289000</td>\n",
       "      <td>2310</td>\n",
       "    </tr>\n",
       "    <tr>\n",
       "      <th>1724</th>\n",
       "      <td>285000</td>\n",
       "      <td>2564</td>\n",
       "    </tr>\n",
       "    <tr>\n",
       "      <th>1725</th>\n",
       "      <td>194900</td>\n",
       "      <td>1099</td>\n",
       "    </tr>\n",
       "    <tr>\n",
       "      <th>1726</th>\n",
       "      <td>125000</td>\n",
       "      <td>1225</td>\n",
       "    </tr>\n",
       "    <tr>\n",
       "      <th>1727</th>\n",
       "      <td>111300</td>\n",
       "      <td>1959</td>\n",
       "    </tr>\n",
       "  </tbody>\n",
       "</table>\n",
       "<p>1728 rows × 2 columns</p>\n",
       "</div>"
      ],
      "text/plain": [
       "       price  living_area\n",
       "0     132500          906\n",
       "1     181115         1953\n",
       "2     109000         1944\n",
       "3     155000         1944\n",
       "4      86060          840\n",
       "...      ...          ...\n",
       "1723  289000         2310\n",
       "1724  285000         2564\n",
       "1725  194900         1099\n",
       "1726  125000         1225\n",
       "1727  111300         1959\n",
       "\n",
       "[1728 rows x 2 columns]"
      ]
     },
     "execution_count": 82,
     "metadata": {},
     "output_type": "execute_result"
    }
   ],
   "source": [
    "df[['price', 'living_area']]"
   ]
  },
  {
   "cell_type": "code",
   "execution_count": 83,
   "metadata": {},
   "outputs": [],
   "source": [
    "X = df['living_area']\n",
    "Y = df['price']"
   ]
  },
  {
   "cell_type": "code",
   "execution_count": 84,
   "metadata": {},
   "outputs": [
    {
     "data": {
      "text/plain": [
       "0     906\n",
       "1    1953\n",
       "2    1944\n",
       "3    1944\n",
       "4     840\n",
       "Name: living_area, dtype: int64"
      ]
     },
     "execution_count": 84,
     "metadata": {},
     "output_type": "execute_result"
    }
   ],
   "source": [
    "X.head()\n"
   ]
  },
  {
   "cell_type": "code",
   "execution_count": 85,
   "metadata": {},
   "outputs": [
    {
     "data": {
      "text/plain": [
       "0    132500\n",
       "1    181115\n",
       "2    109000\n",
       "3    155000\n",
       "4     86060\n",
       "Name: price, dtype: int64"
      ]
     },
     "execution_count": 85,
     "metadata": {},
     "output_type": "execute_result"
    }
   ],
   "source": [
    "Y.head()"
   ]
  },
  {
   "cell_type": "code",
   "execution_count": 86,
   "metadata": {},
   "outputs": [
    {
     "data": {
      "image/png": "[encoded data removed]",
      "text/plain": [
       "<Figure size 432x288 with 1 Axes>"
      ]
     },
     "metadata": {
      "needs_background": "light"
     },
     "output_type": "display_data"
    }
   ],
   "source": [
    "#scatter plot of X and Y\n",
    "plt.scatter(X,Y)\n",
    "plt.show()"
   ]
  },
  {
   "cell_type": "code",
   "execution_count": 87,
   "metadata": {},
   "outputs": [
    {
     "data": {
      "image/png": "[encoded data removed]",
      "text/plain": [
       "<Figure size 432x288 with 1 Axes>"
      ]
     },
     "metadata": {
      "needs_background": "light"
     },
     "output_type": "display_data"
    }
   ],
   "source": [
    "#arranging plot for better visualization\n",
    "plt.scatter(X,Y)\n",
    "plt.axis([0,6000, 1, 1000000])\n",
    "plt.show()"
   ]
  },
  {
   "cell_type": "code",
   "execution_count": 91,
   "metadata": {},
   "outputs": [
    {
     "data": {
      "image/png": "[encoded data removed]",
      "text/plain": [
       "<Figure size 432x288 with 1 Axes>"
      ]
     },
     "metadata": {
      "needs_background": "light"
     },
     "output_type": "display_data"
    }
   ],
   "source": [
    "plt.scatter(X,Y)\n",
    "plt.axis([0,6000, 1, 1000000])\n",
    "plt.xlabel('living_area')\n",
    "plt.ylabel('price')\n",
    "plt.show()"
   ]
  },
  {
   "cell_type": "code",
   "execution_count": 95,
   "metadata": {},
   "outputs": [
    {
     "data": {
      "text/plain": [
       "str"
      ]
     },
     "execution_count": 95,
     "metadata": {},
     "output_type": "execute_result"
    }
   ],
   "source": [
    "type('price')"
   ]
  },
  {
   "cell_type": "code",
   "execution_count": 103,
   "metadata": {},
   "outputs": [],
   "source": [
    "#regression line\n",
    "X1 = sm.add_constant(X)\n",
    "reg = sm.OLS(Y,X1).fit()"
   ]
  },
  {
   "cell_type": "code",
   "execution_count": null,
   "metadata": {},
   "outputs": [],
   "source": [
    "#Expected value of price\n",
    "#price^=const+113.12*living_area\n",
    "#1.344e+4 is equal to 13440\n",
    "#calculate expeced price for living_area=5000\n"
   ]
  },
  {
   "cell_type": "code",
   "execution_count": 111,
   "metadata": {},
   "outputs": [
    {
     "data": {
      "text/html": [
       "<table class=\"simpletable\">\n",
       "<caption>OLS Regression Results</caption>\n",
       "<tr>\n",
       "  <th>Dep. Variable:</th>          <td>price</td>      <th>  R-squared:         </th> <td>   0.507</td> \n",
       "</tr>\n",
       "<tr>\n",
       "  <th>Model:</th>                   <td>OLS</td>       <th>  Adj. R-squared:    </th> <td>   0.507</td> \n",
       "</tr>\n",
       "<tr>\n",
       "  <th>Method:</th>             <td>Least Squares</td>  <th>  F-statistic:       </th> <td>   1779.</td> \n",
       "</tr>\n",
       "<tr>\n",
       "  <th>Date:</th>             <td>Tue, 09 Jun 2020</td> <th>  Prob (F-statistic):</th> <td>9.49e-268</td>\n",
       "</tr>\n",
       "<tr>\n",
       "  <th>Time:</th>                 <td>23:03:09</td>     <th>  Log-Likelihood:    </th> <td> -21707.</td> \n",
       "</tr>\n",
       "<tr>\n",
       "  <th>No. Observations:</th>      <td>  1728</td>      <th>  AIC:               </th> <td>4.342e+04</td>\n",
       "</tr>\n",
       "<tr>\n",
       "  <th>Df Residuals:</th>          <td>  1726</td>      <th>  BIC:               </th> <td>4.343e+04</td>\n",
       "</tr>\n",
       "<tr>\n",
       "  <th>Df Model:</th>              <td>     1</td>      <th>                     </th>     <td> </td>    \n",
       "</tr>\n",
       "<tr>\n",
       "  <th>Covariance Type:</th>      <td>nonrobust</td>    <th>                     </th>     <td> </td>    \n",
       "</tr>\n",
       "</table>\n",
       "<table class=\"simpletable\">\n",
       "<tr>\n",
       "       <td></td>          <th>coef</th>     <th>std err</th>      <th>t</th>      <th>P>|t|</th>  <th>[0.025</th>    <th>0.975]</th>  \n",
       "</tr>\n",
       "<tr>\n",
       "  <th>const</th>       <td> 1.344e+04</td> <td> 4992.353</td> <td>    2.692</td> <td> 0.007</td> <td> 3647.696</td> <td> 2.32e+04</td>\n",
       "</tr>\n",
       "<tr>\n",
       "  <th>living_area</th> <td>  113.1225</td> <td>    2.682</td> <td>   42.173</td> <td> 0.000</td> <td>  107.862</td> <td>  118.384</td>\n",
       "</tr>\n",
       "</table>\n",
       "<table class=\"simpletable\">\n",
       "<tr>\n",
       "  <th>Omnibus:</th>       <td>685.260</td> <th>  Durbin-Watson:     </th> <td>   1.517</td>\n",
       "</tr>\n",
       "<tr>\n",
       "  <th>Prob(Omnibus):</th> <td> 0.000</td>  <th>  Jarque-Bera (JB):  </th> <td>5308.617</td>\n",
       "</tr>\n",
       "<tr>\n",
       "  <th>Skew:</th>          <td> 1.658</td>  <th>  Prob(JB):          </th> <td>    0.00</td>\n",
       "</tr>\n",
       "<tr>\n",
       "  <th>Kurtosis:</th>      <td>10.920</td>  <th>  Cond. No.          </th> <td>5.59e+03</td>\n",
       "</tr>\n",
       "</table><br/><br/>Warnings:<br/>[1] Standard Errors assume that the covariance matrix of the errors is correctly specified.<br/>[2] The condition number is large, 5.59e+03. This might indicate that there are<br/>strong multicollinearity or other numerical problems."
      ],
      "text/plain": [
       "<class 'statsmodels.iolib.summary.Summary'>\n",
       "\"\"\"\n",
       "                            OLS Regression Results                            \n",
       "==============================================================================\n",
       "Dep. Variable:                  price   R-squared:                       0.507\n",
       "Model:                            OLS   Adj. R-squared:                  0.507\n",
       "Method:                 Least Squares   F-statistic:                     1779.\n",
       "Date:                Tue, 09 Jun 2020   Prob (F-statistic):          9.49e-268\n",
       "Time:                        23:03:09   Log-Likelihood:                -21707.\n",
       "No. Observations:                1728   AIC:                         4.342e+04\n",
       "Df Residuals:                    1726   BIC:                         4.343e+04\n",
       "Df Model:                           1                                         \n",
       "Covariance Type:            nonrobust                                         \n",
       "===============================================================================\n",
       "                  coef    std err          t      P>|t|      [0.025      0.975]\n",
       "-------------------------------------------------------------------------------\n",
       "const        1.344e+04   4992.353      2.692      0.007    3647.696    2.32e+04\n",
       "living_area   113.1225      2.682     42.173      0.000     107.862     118.384\n",
       "==============================================================================\n",
       "Omnibus:                      685.260   Durbin-Watson:                   1.517\n",
       "Prob(Omnibus):                  0.000   Jarque-Bera (JB):             5308.617\n",
       "Skew:                           1.658   Prob(JB):                         0.00\n",
       "Kurtosis:                      10.920   Cond. No.                     5.59e+03\n",
       "==============================================================================\n",
       "\n",
       "Warnings:\n",
       "[1] Standard Errors assume that the covariance matrix of the errors is correctly specified.\n",
       "[2] The condition number is large, 5.59e+03. This might indicate that there are\n",
       "strong multicollinearity or other numerical problems.\n",
       "\"\"\""
      ]
     },
     "execution_count": 111,
     "metadata": {},
     "output_type": "execute_result"
    }
   ],
   "source": [
    "reg.summary()"
   ]
  },
  {
   "cell_type": "code",
   "execution_count": 114,
   "metadata": {},
   "outputs": [
    {
     "data": {
      "text/plain": [
       "579040.0"
      ]
     },
     "execution_count": 114,
     "metadata": {},
     "output_type": "execute_result"
    }
   ],
   "source": [
    "exp_price=13440+113.12*5000\n",
    "exp_price#compare this with data in above graph, you can be very much approximated(600000)."
   ]
  },
  {
   "cell_type": "code",
   "execution_count": 115,
   "metadata": {},
   "outputs": [],
   "source": [
    "#OLs without intercept"
   ]
  },
  {
   "cell_type": "code",
   "execution_count": 116,
   "metadata": {},
   "outputs": [
    {
     "data": {
      "text/html": [
       "<table class=\"simpletable\">\n",
       "<caption>OLS Regression Results</caption>\n",
       "<tr>\n",
       "  <th>Dep. Variable:</th>          <td>price</td>      <th>  R-squared (uncentered):</th>      <td>   0.912</td> \n",
       "</tr>\n",
       "<tr>\n",
       "  <th>Model:</th>                   <td>OLS</td>       <th>  Adj. R-squared (uncentered):</th> <td>   0.912</td> \n",
       "</tr>\n",
       "<tr>\n",
       "  <th>Method:</th>             <td>Least Squares</td>  <th>  F-statistic:       </th>          <td>1.796e+04</td>\n",
       "</tr>\n",
       "<tr>\n",
       "  <th>Date:</th>             <td>Tue, 09 Jun 2020</td> <th>  Prob (F-statistic):</th>           <td>  0.00</td>  \n",
       "</tr>\n",
       "<tr>\n",
       "  <th>Time:</th>                 <td>23:13:08</td>     <th>  Log-Likelihood:    </th>          <td> -21710.</td> \n",
       "</tr>\n",
       "<tr>\n",
       "  <th>No. Observations:</th>      <td>  1728</td>      <th>  AIC:               </th>          <td>4.342e+04</td>\n",
       "</tr>\n",
       "<tr>\n",
       "  <th>Df Residuals:</th>          <td>  1727</td>      <th>  BIC:               </th>          <td>4.343e+04</td>\n",
       "</tr>\n",
       "<tr>\n",
       "  <th>Df Model:</th>              <td>     1</td>      <th>                     </th>              <td> </td>    \n",
       "</tr>\n",
       "<tr>\n",
       "  <th>Covariance Type:</th>      <td>nonrobust</td>    <th>                     </th>              <td> </td>    \n",
       "</tr>\n",
       "</table>\n",
       "<table class=\"simpletable\">\n",
       "<tr>\n",
       "       <td></td>          <th>coef</th>     <th>std err</th>      <th>t</th>      <th>P>|t|</th>  <th>[0.025</th>    <th>0.975]</th>  \n",
       "</tr>\n",
       "<tr>\n",
       "  <th>living_area</th> <td>  119.9313</td> <td>    0.895</td> <td>  134.031</td> <td> 0.000</td> <td>  118.176</td> <td>  121.686</td>\n",
       "</tr>\n",
       "</table>\n",
       "<table class=\"simpletable\">\n",
       "<tr>\n",
       "  <th>Omnibus:</th>       <td>650.108</td> <th>  Durbin-Watson:     </th> <td>   1.520</td>\n",
       "</tr>\n",
       "<tr>\n",
       "  <th>Prob(Omnibus):</th> <td> 0.000</td>  <th>  Jarque-Bera (JB):  </th> <td>4985.340</td>\n",
       "</tr>\n",
       "<tr>\n",
       "  <th>Skew:</th>          <td> 1.559</td>  <th>  Prob(JB):          </th> <td>    0.00</td>\n",
       "</tr>\n",
       "<tr>\n",
       "  <th>Kurtosis:</th>      <td>10.715</td>  <th>  Cond. No.          </th> <td>    1.00</td>\n",
       "</tr>\n",
       "</table><br/><br/>Warnings:<br/>[1] Standard Errors assume that the covariance matrix of the errors is correctly specified."
      ],
      "text/plain": [
       "<class 'statsmodels.iolib.summary.Summary'>\n",
       "\"\"\"\n",
       "                                 OLS Regression Results                                \n",
       "=======================================================================================\n",
       "Dep. Variable:                  price   R-squared (uncentered):                   0.912\n",
       "Model:                            OLS   Adj. R-squared (uncentered):              0.912\n",
       "Method:                 Least Squares   F-statistic:                          1.796e+04\n",
       "Date:                Tue, 09 Jun 2020   Prob (F-statistic):                        0.00\n",
       "Time:                        23:13:08   Log-Likelihood:                         -21710.\n",
       "No. Observations:                1728   AIC:                                  4.342e+04\n",
       "Df Residuals:                    1727   BIC:                                  4.343e+04\n",
       "Df Model:                           1                                                  \n",
       "Covariance Type:            nonrobust                                                  \n",
       "===============================================================================\n",
       "                  coef    std err          t      P>|t|      [0.025      0.975]\n",
       "-------------------------------------------------------------------------------\n",
       "living_area   119.9313      0.895    134.031      0.000     118.176     121.686\n",
       "==============================================================================\n",
       "Omnibus:                      650.108   Durbin-Watson:                   1.520\n",
       "Prob(Omnibus):                  0.000   Jarque-Bera (JB):             4985.340\n",
       "Skew:                           1.559   Prob(JB):                         0.00\n",
       "Kurtosis:                      10.715   Cond. No.                         1.00\n",
       "==============================================================================\n",
       "\n",
       "Warnings:\n",
       "[1] Standard Errors assume that the covariance matrix of the errors is correctly specified.\n",
       "\"\"\""
      ]
     },
     "execution_count": 116,
     "metadata": {},
     "output_type": "execute_result"
    }
   ],
   "source": [
    "reg1=sm.OLS(Y,X).fit()\n",
    "reg1.summary()\n"
   ]
  },
  {
   "cell_type": "markdown",
   "metadata": {},
   "source": [
    "# Alpha, beta, R^2"
   ]
  },
  {
   "cell_type": "code",
   "execution_count": 155,
   "metadata": {},
   "outputs": [],
   "source": [
    "slope, intercept, r_value, p_value, std_error = stats.linregress(X,Y)#compare with reg above"
   ]
  },
  {
   "cell_type": "code",
   "execution_count": 156,
   "metadata": {},
   "outputs": [
    {
     "data": {
      "text/plain": [
       "113.12254184680961"
      ]
     },
     "execution_count": 156,
     "metadata": {},
     "output_type": "execute_result"
    }
   ],
   "source": [
    "slope"
   ]
  },
  {
   "cell_type": "code",
   "execution_count": 157,
   "metadata": {},
   "outputs": [
    {
     "data": {
      "text/plain": [
       "13439.394004889386"
      ]
     },
     "execution_count": 157,
     "metadata": {},
     "output_type": "execute_result"
    }
   ],
   "source": [
    "intercept"
   ]
  },
  {
   "cell_type": "code",
   "execution_count": 158,
   "metadata": {},
   "outputs": [
    {
     "data": {
      "text/plain": [
       "0.7123902334268238"
      ]
     },
     "execution_count": 158,
     "metadata": {},
     "output_type": "execute_result"
    }
   ],
   "source": [
    "r_value"
   ]
  },
  {
   "cell_type": "code",
   "execution_count": 159,
   "metadata": {},
   "outputs": [
    {
     "data": {
      "text/plain": [
       "9.486239939676993e-268"
      ]
     },
     "execution_count": 159,
     "metadata": {},
     "output_type": "execute_result"
    }
   ],
   "source": [
    "p_value"
   ]
  },
  {
   "cell_type": "code",
   "execution_count": 160,
   "metadata": {},
   "outputs": [
    {
     "data": {
      "text/plain": [
       "0.5074998446819246"
      ]
     },
     "execution_count": 160,
     "metadata": {},
     "output_type": "execute_result"
    }
   ],
   "source": [
    "r_value **2"
   ]
  },
  {
   "cell_type": "code",
   "execution_count": 162,
   "metadata": {},
   "outputs": [
    {
     "data": {
      "text/plain": [
       "2.6823410034486286"
      ]
     },
     "execution_count": 162,
     "metadata": {},
     "output_type": "execute_result"
    }
   ],
   "source": [
    "std_error"
   ]
  },
  {
   "cell_type": "code",
   "execution_count": null,
   "metadata": {},
   "outputs": [],
   "source": []
  },
  {
   "cell_type": "code",
   "execution_count": null,
   "metadata": {},
   "outputs": [],
   "source": []
  }
 ],
 "metadata": {
  "kernelspec": {
   "display_name": "Python 3",
   "language": "python",
   "name": "python3"
  },
  "language_info": {
   "codemirror_mode": {
    "name": "ipython",
    "version": 3
   },
   "file_extension": ".py",
   "mimetype": "text/x-python",
   "name": "python",
   "nbconvert_exporter": "python",
   "pygments_lexer": "ipython3",
   "version": "3.7.6"
  }
 },
 "nbformat": 4,
 "nbformat_minor": 4
}
